{
 "cells": [
  {
   "cell_type": "code",
   "execution_count": 1,
   "metadata": {},
   "outputs": [],
   "source": [
    "import numpy as np\n",
    "import scipy.stats"
   ]
  },
  {
   "cell_type": "code",
   "execution_count": 2,
   "metadata": {},
   "outputs": [],
   "source": [
    "tt = np.array([8.16, 8.14, 8.12, 8.16, 8.18 , 8.10 , 8.18 , 8.18 , 8.18 , 8.24,\n",
    "               8.16 , 8.14 , 8.17 , 8.18 , 8.21 , 8.12 , 8.12 , 8.17 , 8.06 , 8.10,\n",
    "               8.12 , 8.10 , 8.14 , 8.09 , 8.16 , 8.16 , 8.21 , 8.14 , 8.16 , 8.13])\n",
    "tt_dstat = scipy.stats.describe(tt)"
   ]
  },
  {
   "cell_type": "markdown",
   "metadata": {},
   "source": [
    "<br><br>\n",
    "Número de medidas $n$:"
   ]
  },
  {
   "cell_type": "code",
   "execution_count": 11,
   "metadata": {},
   "outputs": [
    {
     "name": "stdout",
     "output_type": "stream",
     "text": [
      "30\n"
     ]
    }
   ],
   "source": [
    "nn = tt_dstat.nobs\n",
    "print(f'{nn:d}')"
   ]
  },
  {
   "cell_type": "markdown",
   "metadata": {},
   "source": [
    "<br><br>\n",
    "Média $\\overline{t}$:"
   ]
  },
  {
   "cell_type": "code",
   "execution_count": 10,
   "metadata": {},
   "outputs": [
    {
     "name": "stdout",
     "output_type": "stream",
     "text": [
      "8.149\n"
     ]
    }
   ],
   "source": [
    "tmed = tt_dstat.mean\n",
    "print(f'{tmed:.3f}')"
   ]
  },
  {
   "cell_type": "markdown",
   "metadata": {},
   "source": [
    "<br><br>\n",
    "Desvio padrão experimental $s_t$:"
   ]
  },
  {
   "cell_type": "code",
   "execution_count": 9,
   "metadata": {
    "scrolled": true
   },
   "outputs": [
    {
     "name": "stdout",
     "output_type": "stream",
     "text": [
      "0.039\n"
     ]
    }
   ],
   "source": [
    "tstd = np.sqrt(tt_dstat.variance)\n",
    "print(f'{tstd:.3f}')"
   ]
  },
  {
   "cell_type": "markdown",
   "metadata": {},
   "source": [
    "<br><br>\n",
    "$\\overline{t} - s_t$"
   ]
  },
  {
   "cell_type": "code",
   "execution_count": 6,
   "metadata": {},
   "outputs": [
    {
     "name": "stdout",
     "output_type": "stream",
     "text": [
      "8.110\n"
     ]
    }
   ],
   "source": [
    "print(f'{tmed-tstd:.3f}')"
   ]
  },
  {
   "cell_type": "markdown",
   "metadata": {},
   "source": [
    "<br><br>\n",
    "$\\overline{t} + s_t$"
   ]
  },
  {
   "cell_type": "code",
   "execution_count": 7,
   "metadata": {},
   "outputs": [
    {
     "name": "stdout",
     "output_type": "stream",
     "text": [
      "8.189\n"
     ]
    }
   ],
   "source": [
    "print(f'{tmed+tstd:.3f}')"
   ]
  },
  {
   "cell_type": "markdown",
   "metadata": {},
   "source": [
    "<br><br>\n",
    "Número de observações fora de $\\overline{t} \\pm s_t$ (esperado):"
   ]
  },
  {
   "cell_type": "code",
   "execution_count": 14,
   "metadata": {},
   "outputs": [
    {
     "name": "stdout",
     "output_type": "stream",
     "text": [
      "9.5\n"
     ]
    }
   ],
   "source": [
    "tgdist = scipy.stats.norm(loc=tmed, scale=tstd)\n",
    "prob1sigma = tgdist.cdf(tmed+tstd) - tgdist.cdf(tmed-tstd)\n",
    "nn_out_exp = (1 - prob1sigma) * nn\n",
    "print(f'{nn_out_exp:.1f}')"
   ]
  },
  {
   "cell_type": "markdown",
   "metadata": {},
   "source": [
    "<br><br>\n",
    "Número de observações fora de $\\overline{t} \\pm s_t$ (observado):"
   ]
  },
  {
   "cell_type": "code",
   "execution_count": 13,
   "metadata": {},
   "outputs": [
    {
     "name": "stdout",
     "output_type": "stream",
     "text": [
      "8.0\n"
     ]
    }
   ],
   "source": [
    "nn_out_obs = ((tt < tmed-tstd) | (tt > tmed+tstd)).sum()\n",
    "print(f'{nn_out_obs:.1f}')"
   ]
  },
  {
   "cell_type": "code",
   "execution_count": null,
   "metadata": {},
   "outputs": [],
   "source": []
  }
 ],
 "metadata": {
  "kernelspec": {
   "display_name": "Python 3",
   "language": "python",
   "name": "python3"
  },
  "language_info": {
   "codemirror_mode": {
    "name": "ipython",
    "version": 3
   },
   "file_extension": ".py",
   "mimetype": "text/x-python",
   "name": "python",
   "nbconvert_exporter": "python",
   "pygments_lexer": "ipython3",
   "version": "3.7.5"
  }
 },
 "nbformat": 4,
 "nbformat_minor": 2
}
